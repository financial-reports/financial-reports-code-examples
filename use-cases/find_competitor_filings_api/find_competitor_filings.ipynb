{
 "cells": [
  {
   "cell_type": "markdown",
   "metadata": {},
   "source": [
    "# Use Case: Find Competitor Filings Using the API\n",
    "\n",
    "## Purpose\n",
    "\n",
    "This workflow demonstrates the power of chaining multiple FinancialReports API endpoints to solve a common business problem: **finding recent annual reports from a company's direct competitors.**\n",
    "\n",
    "This notebook will:\n",
    "1.  **Start with a known company** (e.g., adidas AG, identified by its ISIN).\n",
    "2.  **API Call #1:** Fetch the company's details to identify its industry classification (ISIC code).\n",
    "3.  **API Call #2:** Find other companies operating in that same industry.\n",
    "4.  **API Call #3 (in a loop):** For each competitor, retrieve their latest annual report filing.\n",
    "5.  Display the final results in a clean, organized `pandas` DataFrame."
   ]
  },
  {
   "cell_type": "markdown",
   "metadata": {},
   "source": [
    "## 1. Setup\n",
    "\n",
    "First, we import our required libraries, including the official FinancialReports Python SDK. We'll also set up our API client. \n",
    "\n",
    "**Important:** This notebook requires the `FR_API_KEY` environment variable to be set. See the root `README.md` for instructions."
   ]
  },
  {
   "cell_type": "code",
   "execution_count": null,
   "metadata": {},
   "outputs": [],
   "source": [
    "import os\n",
    "import pandas as pd\n",
    "from financial_reports_generated_client import Client\n",
    "from financial_reports_generated_client.models import CompaniesListView\n",
    "from financial_reports_generated_client.types import Response\n",
    "from datetime import datetime\n",
    "\n",
    "# --- API Client Setup ---\n",
    "api_key = os.environ.get(\"FR_API_KEY\")\n",
    "\n",
    "if not api_key:\n",
    "    print(\"ERROR: FR_API_KEY environment variable not set.\")\n",
    "else:\n",
    "    # Base URL for the FinancialReports API\n",
    "    base_url = \"https://api.financialreports.eu\"\n",
    "    \n",
    "    # Create an API client instance\n",
    "    client = Client(base_url=base_url, headers={\"X-API-Key\": api_key}, timeout=30.0)\n",
    "    print(\"API Client created successfully.\")"
   ]
  },
  {
   "cell_type": "markdown",
   "metadata": {},
   "source": [
    "## 2. The Workflow\n",
    "\n",
    "We'll define a main function to encapsulate the entire logic. This makes the process clear and reusable."
   ]
  },
  {
   "cell_type": "code",
   "execution_count": null,
   "metadata": {},
   "outputs": [],
   "source": [
    "def find_competitor_annual_reports(target_isin: str, filing_type_code: str = \"10-K\"):\n",
    "    \"\"\"\n",
    "    Finds the latest annual report for competitors of a given company.\n",
    "    \"\"\"\n",
    "    if not api_key:\n",
    "        print(\"API Key not configured. Aborting.\")\n",
    "        return None\n",
    "\n",
    "    # --- Step 1: Find the target company and its industry ---\n",
    "    print(f\"Step 1: Finding details for company with ISIN {target_isin}...\")\n",
    "    try:\n",
    "        # Use the 'full' view to get detailed industry data\n",
    "        company_response = client.companies.companies_list(\n",
    "            isin=target_isin,\n",
    "            view=CompaniesListView.FULL\n",
    "        )\n",
    "        \n",
    "        if not company_response.results or len(company_response.results) == 0:\n",
    "            print(f\"Could not find a company with ISIN {target_isin}.\")\n",
    "            return None\n",
    "            \n",
    "        target_company = company_response.results[0]\n",
    "        company_name = target_company.name\n",
    "        # The sub_industry is the most specific ISIC classification\n",
    "        isic_code = target_company.sub_industry.code\n",
    "        print(f\"Found '{company_name}' in industry (ISIC): {isic_code}\")\n",
    "        \n",
    "    except Exception as e:\n",
    "        print(f\"An error occurred during Step 1: {e}\")\n",
    "        return None\n",
    "\n",
    "    # --- Step 2: Find other companies in the same industry ---\n",
    "    print(f\"\\nStep 2: Searching for competitors in industry {isic_code}...\")\n",
    "    try:\n",
    "        competitors_response = client.companies.companies_list(sub_industry=isic_code, page_size=10)\n",
    "        # Filter out the original company from the competitor list\n",
    "        competitors = [c for c in competitors_response.results if c.id != target_company.id]\n",
    "        \n",
    "        if not competitors:\n",
    "            print(f\"No other companies found in industry {isic_code}.\")\n",
    "            return None\n",
    "        \n",
    "        print(f\"Found {len(competitors)} competitors, including: {[c.name for c in competitors[:3]]}...\")\n",
    "        \n",
    "    except Exception as e:\n",
    "        print(f\"An error occurred during Step 2: {e}\")\n",
    "        return None\n",
    "\n",
    "    # --- Step 3: Get the latest annual report for each competitor ---\n",
    "    print(f\"\\nStep 3: Fetching latest '{filing_type_code}' for each competitor...\")\n",
    "    all_filings = []\n",
    "    for competitor in competitors:\n",
    "        try:\n",
    "            latest_filing_response = client.filings.filings_list(\n",
    "                company=competitor.id,\n",
    "                type=filing_type_code,\n",
    "                ordering=\"-release_datetime\", # Get the most recent first\n",
    "                page_size=1\n",
    "            )\n",
    "            \n",
    "            if latest_filing_response.results:\n",
    "                filing = latest_filing_response.results[0]\n",
    "                all_filings.append({\n",
    "                    'competitor_name': competitor.name,\n",
    "                    'filing_title': filing.title,\n",
    "                    'release_date': filing.release_datetime.date() if filing.release_datetime else None,\n",
    "                    'filing_id': filing.id\n",
    "                })\n",
    "                print(f\"  - Found filing for {competitor.name}\")\n",
    "        except Exception as e:\n",
    "            print(f\"  - Could not fetch filing for {competitor.name}: {e}\")\n",
    "    \n",
    "    return pd.DataFrame(all_filings)\n"
   ]
  },
  {
   "cell_type": "markdown",
   "metadata": {},
   "source": [
    "## 3. Run and Display Results\n",
    "\n",
    "Now we can execute our workflow. We'll start with the ISIN for **adidas AG** (`DE000A1EWWW0`) and look for `10-K` or equivalent annual reports from its competitors."
   ]
  },
  {
   "cell_type": "code",
   "execution_count": null,
   "metadata": {},
   "outputs": [],
   "source": [
    "# ISIN for adidas AG\n",
    "adidas_isin = \"DE000A1EWWW0\"\n",
    "\n",
    "df_results = find_competitor_annual_reports(adidas_isin)\n",
    "\n",
    "if df_results is not None:\n",
    "    print(\"\\n--- Competitor Annual Reports ---\")\n",
    "    display(df_results.sort_values(by='release_date', ascending=False).reset_index(drop=True))"
   ]
  }
 ],
 "metadata": {
  "kernelspec": {
   "display_name": "Python 3",
   "language": "python",
   "name": "python3"
  },
  "language_info": {
   "name": "python",
   "version": "3.9.1"
  }
 },
 "nbformat": 4,
 "nbformat_minor": 2
}
