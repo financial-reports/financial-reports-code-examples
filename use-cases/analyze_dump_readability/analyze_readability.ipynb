{
 "cells": [
  {
   "cell_type": "markdown",
   "metadata": {},
   "source": [
    "# Use Case: Bulk Readability Analysis of Data Dump Filings\n",
    "\n",
    "## Purpose\n",
    "\n",
    "This is a powerful workflow that demonstrates the value of the FinancialReports data dump. It answers the question: **\"Now that I've loaded my metadata into a database, what can I do with it?\"**\n",
    "\n",
    "This notebook will:\n",
    "1. Connect to the SQLite database created by the `load_to_sqlite.py` script.\n",
    "2. Query for a specific subset of filings (e.g., all annual reports).\n",
    "3. For each filing, read its corresponding local markdown file.\n",
    "4. Calculate its Gunning Fog readability score using our reusable analysis function.\n",
    "5. Display the results in a sorted table and visualize the distribution of scores."
   ]
  },
  {
   "cell_type": "markdown",
   "metadata": {},
   "source": [
    "## 1. Setup\n",
    "\n",
    "We import our required libraries. This includes `pandas` and `sqlalchemy` for data handling, and crucially, our `calculate_gunning_fog` function from the `/analysis` directory. This demonstrates how the cookbook's components can be combined.\n",
    "\n",
    "We also import `matplotlib` for plotting."
   ]
  },
  {
   "cell_type": "code",
   "execution_count": null,
   "metadata": {},
   "outputs": [],
   "source": [
    "import pandas as pd\n",
    "import sqlite3\n",
    "import sys\n",
    "from pathlib import Path\n",
    "from tqdm.notebook import tqdm\n",
    "import matplotlib.pyplot as plt\n",
    "\n",
    "# --- Import from another directory ---\n",
    "# To make the `utils.py` from our other example importable, we temporarily add its directory to Python's path.\n",
    "gunning_fog_util_path = Path('../../analysis/calculate_gunning_fog/')\n",
    "sys.path.append(str(gunning_fog_util_path.resolve()))\n",
    "\n",
    "try:\n",
    "    from utils import calculate_gunning_fog\n",
    "    print(\"Successfully imported calculate_gunning_fog function.\")\n",
    "except ImportError:\n",
    "    print(\"ERROR: Could not import 'calculate_gunning_fog'.\")\n",
    "    print(f\"Please ensure '{gunning_fog_util_path / 'utils.py'}' exists.\")"
   ]
  },
  {
   "cell_type": "markdown",
   "metadata": {},
   "source": [
    "## 2. Connect and Query the Database\n",
    "\n",
    "We'll connect to the `financialreports.db` file (assuming it's in the project root) and run a SQL query to get the filenames of all annual reports (`10-K`, `20-F`)."
   ]
  },
  {
   "cell_type": "code",
   "execution_count": null,
   "metadata": {},
   "outputs": [],
   "source": [
    "DB_PATH = Path('../../financialreports.db')\n",
    "DATA_DUMP_MARKDOWN_PATH = Path('/path/to/your/markdown/files/') # <-- IMPORTANT: User must change this path\n",
    "\n",
    "if not DB_PATH.exists():\n",
    "    print(f\"ERROR: Database not found at '{DB_PATH}'.\")\n",
    "    print(\"Please run the 'load_metadata_csv_to_sqlite.py' script first.\")\n",
    "else:\n",
    "    conn = sqlite3.connect(DB_PATH)\n",
    "    \n",
    "    # Query the database for all annual reports\n",
    "    query = \"\"\"\n",
    "        SELECT markdown_filename \n",
    "        FROM filings_metadata \n",
    "        WHERE filing_type_code = '10-K' OR filing_type_code = '20-F'\n",
    "    \"\"\"\n",
    "    \n",
    "    df_filings = pd.read_sql_query(query, conn)\n",
    "    conn.close()\n",
    "    \n",
    "    print(f\"Found {len(df_filings)} annual report filings to analyze.\")\n",
    "    display(df_filings.head())"
   ]
  },
  {
   "cell_type": "markdown",
   "metadata": {},
   "source": [
    "## 3. Process Filings and Calculate Scores\n",
    "\n",
    "Now we loop through each filename, read the content of the corresponding markdown file, and calculate its Gunning Fog score. We'll use `tqdm` to show a progress bar, which is helpful for large datasets.\n",
    "\n",
    "**Note:** This cell simulates the process. Since we don't have the actual data dump, it looks for the file and falls back to a sample text if it's not found. A real user would replace `DATA_DUMP_MARKDOWN_PATH` with the path to their files."
   ]
  },
  {
   "cell_type": "code",
   "execution_count": null,
   "metadata": {},
   "outputs": [],
   "source": [
    "results = []\n",
    "\n",
    "# Use the sample text as a fallback if the real markdown file isn't found\n",
    "fallback_text_path = gunning_fog_util_path / 'sample_text.txt'\n",
    "with open(fallback_text_path, 'r') as f:\n",
    "    fallback_text = f.read()\n",
    "\n",
    "for filename in tqdm(df_filings['markdown_filename'], desc=\"Analyzing Filings\"):\n",
    "    file_path = DATA_DUMP_MARKDOWN_PATH / filename\n",
    "    text_content = ''\n",
    "    \n",
    "    try:\n",
    "        # In a real scenario, this is where you'd read the actual file\n",
    "        if file_path.exists():\n",
    "             with open(file_path, 'r', encoding='utf-8') as f:\n",
    "                text_content = f.read()\n",
    "        else:\n",
    "            # For this example, we use fallback text if the file doesn't exist\n",
    "            text_content = fallback_text\n",
    "            \n",
    "        # Calculate the score\n",
    "        score = calculate_gunning_fog(text_content)\n",
    "        results.append({'filename': filename, 'gunning_fog_score': score})\n",
    "\n",
    "    except Exception as e:\n",
    "        print(f\"Could not process {filename}: {e}\")\n",
    "        results.append({'filename': filename, 'gunning_fog_score': None})\n"
   ]
  },
  {
   "cell_type": "markdown",
   "metadata": {},
   "source": [
    "## 4. Display and Visualize Results\n",
    "\n",
    "Finally, we'll load the results into a new DataFrame, sort it to find the least readable filings, and plot a histogram to see the overall distribution of scores."
   ]
  },
  {
   "cell_type": "code",
   "execution_count": null,
   "metadata": {},
   "outputs": [],
   "source": [
    "df_results = pd.DataFrame(results)\n",
    "df_results = df_results.sort_values(by='gunning_fog_score', ascending=False).reset_index(drop=True)\n",
    "\n",
    "print(\"Top 5 Most Complex Filings (Highest Gunning Fog Score):\")\n",
    "display(df_results.head())\n",
    "\n",
    "print(\"\\n--- Score Distribution ---\")\n",
    "# Plotting the distribution\n",
    "plt.style.use('seaborn-v0_8-whitegrid')\n",
    "fig, ax = plt.subplots(figsize=(10, 5))\n",
    "df_results['gunning_fog_score'].hist(bins=20, ax=ax, color='#007acc', alpha=0.7)\n",
    "ax.set_title('Distribution of Gunning Fog Scores for Annual Reports')\n",
    "ax.set_xlabel('Gunning Fog Index')\n",
    "ax.set_ylabel('Number of Filings')\n",
    "plt.show()"
   ]
  }
 ],
 "metadata": {
  "kernelspec": {
   "display_name": "Python 3",
   "language": "python",
   "name": "python3"
  },
  "language_info": {
   "name": "python",
   "version": "3.9.1"
  }
 },
 "nbformat": 4,
 "nbformat_minor": 2
}
