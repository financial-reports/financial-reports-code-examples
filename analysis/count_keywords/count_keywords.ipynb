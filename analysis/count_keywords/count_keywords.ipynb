{
 "cells": [
  {
   "cell_type": "markdown",
   "metadata": {},
   "source": [
    "# Analysis: Counting Keyword Mentions in Text\n",
    "\n",
    "## Purpose\n",
    "\n",
    "A common and powerful analysis technique is to track the frequency of specific keywords in financial reports over time. This can help identify trends, measure focus on strategic initiatives (like \"AI\" or \"ESG\"), or flag risk-related terms (like \"inflation\" or \"supply chain disruption\").\n",
    "\n",
    "This notebook provides a simple, reusable script to count a list of keywords within a text file and present the results in a clean table using `pandas`."
   ]
  },
  {
   "cell_type": "markdown",
   "metadata": {},
   "source": [
    "## 1. Setup\n",
    "\n",
    "We'll import the `pandas` library to organize our results and Python's `re` module for regular expressions, which helps us find whole words accurately."
   ]
  },
  {
   "cell_type": "code",
   "execution_count": null,
   "metadata": {},
   "outputs": [],
   "source": [
    "import pandas as pd\n",
    "import re\n",
    "from collections import Counter"
   ]
  },
  {
   "cell_type": "markdown",
   "metadata": {},
   "source": [
    "## 2. Define Keywords and Load Data\n",
    "\n",
    "First, we define the list of keywords we want to search for. Our search will be case-insensitive.\n",
    "\n",
    "Then, we'll load the `filing_snippet.txt` file included in this directory."
   ]
  },
  {
   "cell_type": "code",
   "execution_count": null,
   "metadata": {},
   "outputs": [],
   "source": [
    "# Define the keywords you are interested in (will be treated as case-insensitive)\n",
    "keywords_to_track = [\n",
    "    'ESG',\n",
    "    'sustainability',\n",
    "    'inflation',\n",
    "    'supply chain',\n",
    "    'AI',\n",
    "    'risk'\n",
    "]\n",
    "\n",
    "# Load the sample text\n",
    "with open('filing_snippet.txt', 'r', encoding='utf-8') as f:\n",
    "    sample_text = f.read()\n",
    "\n",
    "print(\"--- Filing Snippet ---\")\n",
    "print(sample_text[:500] + '...') # Print first 500 chars"
   ]
  },
  {
   "cell_type": "markdown",
   "metadata": {},
   "source": [
    "## 3. Perform the Count\n",
    "\n",
    "We'll process the text to find all whole-word matches for our keywords. The `Counter` object is a highly efficient way to tally the results."
   ]
  },
  {
   "cell_type": "code",
   "execution_count": null,
   "metadata": {},
   "outputs": [],
   "source": [
    "def count_keywords(text, keywords):\n",
    "    \"\"\"Counts occurrences of a list of keywords in a given text, case-insensitively.\"\"\"\n",
    "    # Create a single regex pattern: \\b(word1|word2|...)\\b for whole-word matching\n",
    "    # The `re.IGNORECASE` flag handles case-insensitivity.\n",
    "    pattern = r'\\b(' + '|'.join(re.escape(k) for k in keywords) + r')\\b'\n",
    "    \n",
    "    # Find all non-overlapping matches in the string\n",
    "    matches = re.findall(pattern, text, re.IGNORECASE)\n",
    "    \n",
    "    # The findall returns a list of strings that matched. We need to standardize them\n",
    "    # to lowercase to ensure 'Risk' and 'risk' are counted together.\n",
    "    standardized_matches = [match.lower() for match in matches]\n",
    "    \n",
    "    # Count the occurrences of each standardized match\n",
    "    counts = Counter(standardized_matches)\n",
    "    \n",
    "    # Ensure all original keywords are in the final result, even if their count is 0\n",
    "    final_counts = {kw.lower(): counts.get(kw.lower(), 0) for kw in keywords}\n",
    "    \n",
    "    return final_counts\n",
    "\n",
    "# Run the counting function\n",
    "keyword_counts = count_keywords(sample_text, keywords_to_track)\n",
    "\n",
    "print(\"Raw counts:\", keyword_counts)"
   ]
  },
  {
   "cell_type": "markdown",
   "metadata": {},
   "source": [
    "## 4. Display Results\n",
    "\n",
    "Finally, we load our dictionary of counts into a `pandas` DataFrame for a clean, professional presentation."
   ]
  },
  {
   "cell_type": "code",
   "execution_count": null,
   "metadata": {},
   "outputs": [],
   "source": [
    "# Convert the dictionary to a pandas DataFrame for better visualization\n",
    "df_counts = pd.DataFrame(list(keyword_counts.items()), columns=['Keyword', 'Count'])\n",
    "df_counts = df_counts.sort_values(by='Count', ascending=False).reset_index(drop=True)\n",
    "\n",
    "display(df_counts)"
   ]
  }
 ],
 "metadata": {
  "kernelspec": {
   "display_name": "Python 3",
   "language": "python",
   "name": "python3"
  },
  "language_info": {
   "name": "python",
   "version": "3.11.11"
  }
 },
 "nbformat": 4,
 "nbformat_minor": 2
}
