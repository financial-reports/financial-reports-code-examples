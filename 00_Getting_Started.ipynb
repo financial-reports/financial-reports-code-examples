{
 "cells": [
  {
   "cell_type": "markdown",
   "metadata": {},
   "source": [
    "# Getting Started with the FinancialReports API\n",
    "\n",
    "## Purpose\n",
    "\n",
    "Welcome to the FinancialReports cookbook! This notebook is the best place to start. It will walk you through the absolute basics of connecting to the API and fetching your first pieces of data using our Python SDK.\n",
    "\n",
    "We will cover:\n",
    "1. Setting up your API client.\n",
    "2. Fetching a single company by its ISIN.\n",
    "3. Fetching a single filing by its ID.\n",
    "4. Understanding how to work with paginated list responses."
   ]
  },
  {
   "cell_type": "markdown",
   "metadata": {},
   "source": [
    "## 1. Setup: API Key and Client Initialization\n",
    "\n",
    "First, we need to import the necessary libraries and set up our API client. \n",
    "\n",
    "**IMPORTANT:** Before running the next cell, you must set your `FR_API_KEY` as an environment variable in your terminal. You need to do this **before** you launch Jupyter Notebook.\n",
    "\n",
    "```bash\n",
    "# On macOS / Linux\n",
    "export FR_API_KEY=\"your_api_key_here\"\n",
    "\n",
    "# On Windows (Command Prompt)\n",
    "# set FR_API_KEY=\"your_api_key_here\"\n",
    "```"
   ]
  },
  {
   "cell_type": "code",
   "execution_count": null,
   "metadata": {},
   "outputs": [],
   "source": [
    "import os\n",
    "import pandas as pd\n",
    "from financial_reports_generated_client import Client\n",
    "\n",
    "# --- API Client Setup ---\n",
    "api_key = os.environ.get(\"FR_API_KEY\")\n",
    "\n",
    "if not api_key:\n",
    "    print(\"🔴 ERROR: FR_API_KEY environment variable not set.\")\n",
    "    print(\"Please set it in your terminal before launching Jupyter.\")\n",
    "else:\n",
    "    base_url = \"https://api.financialreports.eu\"\n",
    "    client = Client(base_url=base_url, headers={\"X-API-Key\": api_key}, timeout=30.0)\n",
    "    print(\"✅ API Client created successfully.\")"
   ]
  },
  {
   "cell_type": "markdown",
   "metadata": {},
   "source": [
    "## 2. Fetching a Single Company\n",
    "\n",
    "Let's fetch a specific company. The easiest way is to use a unique identifier like an ISIN. We will search for **adidas AG** using its ISIN."
   ]
  },
  {
   "cell_type": "code",
   "execution_count": null,
   "metadata": {},
   "outputs": [],
   "source": [
    "if 'client' in locals():\n",
    "    target_isin = \"DE000A1EWWW0\" # ISIN for adidas AG\n",
    "    \n",
    "    try:\n",
    "        # The list endpoint can be used to find a single item by a unique filter\n",
    "        response = client.companies.companies_list(isin=target_isin)\n",
    "        \n",
    "        if response.results:\n",
    "            adidas_company = response.results[0]\n",
    "            print(f\"Successfully fetched company:\")\n",
    "            print(f\"  ID: {adidas_company.id}\")\n",
    "            print(f\"  Name: {adidas_company.name}\")\n",
    "            print(f\"  LEI: {adidas_company.lei}\")\n",
    "            print(f\"  Country: {adidas_company.country_code}\")\n",
    "        else:\n",
    "            print(f\"Could not find a company with ISIN {target_isin}\")\n",
    "            \n",
    "    except Exception as e:\n",
    "        print(f\"An API error occurred: {e}\")"
   ]
  },
  {
   "cell_type": "markdown",
   "metadata": {},
   "source": [
    "## 3. Fetching a Single Filing\n",
    "\n",
    "Now that we have a company, let's retrieve one of its specific filings. We'll use the ID of a known adidas annual report (`974971`)."
   ]
  },
  {
   "cell_type": "code",
   "execution_count": null,
   "metadata": {},
   "outputs": [],
   "source": [
    "if 'client' in locals():\n",
    "    target_filing_id = 974971\n",
    "    \n",
    "    try:\n",
    "        # The retrieve endpoint gets a single item by its primary ID\n",
    "        filing = client.filings.filings_retrieve(id=target_filing_id)\n",
    "        \n",
    "        print(f\"Successfully fetched filing:\")\n",
    "        print(f\"  ID: {filing.id}\")\n",
    "        print(f\"  Title: {filing.title}\")\n",
    "        print(f\"  Filing Type: {filing.filing_type.code}\")\n",
    "        print(f\"  Release Date: {filing.release_datetime.date()}\")\n",
    "\n",
    "    except Exception as e:\n",
    "        print(f\"An API error occurred: {e}\")"
   ]
  },
  {
   "cell_type": "markdown",
   "metadata": {},
   "source": [
    "## 4. Understanding Paginated Lists\n",
    "\n",
    "When you request a list of items (like all filings or all companies), the API returns the data in \"pages\" to keep responses fast and small. The response object gives you everything you need to navigate these pages.\n",
    "\n",
    "Let's fetch the first page of filings, with a very small page size of 3, to see how it works."
   ]
  },
  {
   "cell_type": "code",
   "execution_count": null,
   "metadata": {},
   "outputs": [],
   "source": [
    "if 'client' in locals():\n",
    "    try:\n",
    "        # Get the first page, with only 3 items per page\n",
    "        paginated_response = client.filings.filings_list(page=1, page_size=3)\n",
    "        \n",
    "        print(f\"Total items available: {paginated_response.count}\")\n",
    "        print(f\"URL for next page: {paginated_response.next}\")\n",
    "        print(f\"URL for previous page: {paginated_response.previous}\")\n",
    "        print(\"--- Items on this page ---\")\n",
    "        \n",
    "        # The actual data is in the .results list\n",
    "        for item in paginated_response.results:\n",
    "            print(f\"- (ID: {item.id}) {item.title}\")\n",
    "            \n",
    "    except Exception as e:\n",
    "        print(f\"An API error occurred: {e}\")"
   ]
  },
  {
   "cell_type": "markdown",
   "metadata": {},
   "source": [
    "## Next Steps\n",
    "\n",
    "Congratulations! You've successfully connected to the API and fetched data.\n",
    "\n",
    "You are now ready to explore the more advanced examples in this cookbook. Check out the **`/use-cases`** directory to see how you can combine these basic calls into powerful financial analysis workflows."
   ]
  }
 ],
 "metadata": {
  "kernelspec": {
   "display_name": "Python 3",
   "language": "python",
   "name": "python3"
  },
  "language_info": {
   "name": "python",
   "version": "3.9.1"
  }
 },
 "nbformat": 4,
 "nbformat_minor": 2
}

